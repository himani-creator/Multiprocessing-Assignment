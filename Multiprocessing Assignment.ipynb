{
 "cells": [
  {
   "cell_type": "code",
   "execution_count": null,
   "id": "be302c76-e800-4215-b9de-263b161b2190",
   "metadata": {},
   "outputs": [],
   "source": [
    "###Q1. What is multiprocessing in python? Why is it useful?\n",
    "- Multiprocessing refers to the ability of a system to support more than one processor at the same time\n",
    "-Consider a computer system with a single processor. If it is assigned several processes at the same time, it will have to interrupt each task and switch briefly to another, \n",
    "to keep all of the processes going."
   ]
  },
  {
   "cell_type": "code",
   "execution_count": null,
   "id": "5cdc09fe-2068-43f4-b98f-a08aee5c70a2",
   "metadata": {},
   "outputs": [],
   "source": [
    "###Q2. What are the differences between multiprocessing and multithreading?\n",
    "multithreading -  In multithreading we create multiple thread of a single process for increasing the computing speed. \n",
    "many threads of a process are executed simultaneously. \n",
    "mmultiprocessing - In multiprocessing, we can run multiple process simultaneously. "
   ]
  },
  {
   "cell_type": "code",
   "execution_count": 11,
   "id": "8ad0439a-9a2b-464a-8460-4df9ce928e4d",
   "metadata": {},
   "outputs": [
    {
     "name": "stdout",
     "output_type": "stream",
     "text": [
      "square of number :  4 and cube of number: \n",
      " 64\n"
     ]
    }
   ],
   "source": [
    "###Q3. Write a python code to create a process using the multiprocessing module.\n",
    "import multiprocessing\n",
    "\n",
    "def sq(num):\n",
    "    s = num**2\n",
    "    print(\"square of number : \" , s)\n",
    "    \n",
    "def cube(num):\n",
    "    c = num**3\n",
    "    print(\" and cube of number: \", c)\n",
    "    \n",
    "if __name__ == '__main__':\n",
    "    \n",
    "    m1 = multiprocessing.Process(target = sq , args=(2,))\n",
    "    m2 = multiprocessing.Process(target = cube, args=(4,))\n",
    "    m1.start()\n",
    "    m2.start()\n",
    "    m1.join()\n",
    "    m2.join()\n",
    "    "
   ]
  },
  {
   "cell_type": "code",
   "execution_count": null,
   "id": "134058d3-7503-4cca-a137-0817d564a984",
   "metadata": {},
   "outputs": [],
   "source": [
    "###Q4. What is a multiprocessing pool in python? Why is it used?\n",
    "- It will allow us to create a pool of process. Launching many processes using the Process class is practically \n",
    "infeasible as it could break the OS. Hence comes Pool which shall handle the distribution of jobs to and \n",
    "collection of results from all the spawned processes in the presence of a minimal number of worker processes"
   ]
  },
  {
   "cell_type": "code",
   "execution_count": 12,
   "id": "e3c772d5-a5fe-4cfc-bb98-015a212b94be",
   "metadata": {},
   "outputs": [
    {
     "name": "stdout",
     "output_type": "stream",
     "text": [
      "[1, 4, 9, 16, 25, 36, 49, 64, 81, 100]\n"
     ]
    }
   ],
   "source": [
    "####Q5. How can we create a pool of worker processes in python using the multiprocessing module?\n",
    "def square(n):\n",
    "    return n**2\n",
    "    \n",
    "if __name__ == '__main__':\n",
    "    with multiprocessing.Pool(processes = 10) as pool:\n",
    "        output = pool.map(square, [1,2,3,4,5,6,7,8,9,10])\n",
    "    print(output)"
   ]
  },
  {
   "cell_type": "code",
   "execution_count": null,
   "id": "6c95ad14-8c02-431f-92f2-75d5447c0e1d",
   "metadata": {},
   "outputs": [],
   "source": [
    "###Q6. Write a python program to create 4 processes, each process should print a different number using the\n",
    "# multiprocessing module in python.\n",
    "\n",
    "def sq(n):\n",
    "    print(\"square of the numbers are : \" { n**2})\n",
    "\n",
    "if __name__ == '__main__':\n",
    "    m1 = multiprocessing.Process(target=sq, args=(2,))\n",
    "    m2 = multiprocessing.Process(target=sq, args=(3,))\n",
    "    m3 = multiprocessing.Process(target=sq, args=(4,))\n",
    "    m4 = multiprocessing.Process(target=sq, args=(5,))\n",
    "    \n",
    "m1.start()\n",
    "m2.sta"
   ]
  }
 ],
 "metadata": {
  "kernelspec": {
   "display_name": "Python 3 (ipykernel)",
   "language": "python",
   "name": "python3"
  },
  "language_info": {
   "codemirror_mode": {
    "name": "ipython",
    "version": 3
   },
   "file_extension": ".py",
   "mimetype": "text/x-python",
   "name": "python",
   "nbconvert_exporter": "python",
   "pygments_lexer": "ipython3",
   "version": "3.10.8"
  }
 },
 "nbformat": 4,
 "nbformat_minor": 5
}
